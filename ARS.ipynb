{
 "cells": [
  {
   "cell_type": "markdown",
   "id": "1d82b646-205b-4782-bf5a-aa3f3d913724",
   "metadata": {},
   "source": [
    "### 1. Import data"
   ]
  },
  {
   "cell_type": "code",
   "execution_count": 1,
   "id": "13071c09-ba4f-450e-8c07-5249b7649ab4",
   "metadata": {},
   "outputs": [],
   "source": [
    "from mnist.loader import MNIST"
   ]
  },
  {
   "cell_type": "code",
   "execution_count": 2,
   "id": "ac9ab5cb-d1e0-49ff-aa23-672cc3788e08",
   "metadata": {},
   "outputs": [],
   "source": [
    "data = MNIST(path='data/', return_type='numpy')\n",
    "data.select_emnist('letters')\n",
    "X, y = data.load_training()"
   ]
  },
  {
   "cell_type": "code",
   "execution_count": 3,
   "id": "dcec03d7-0cc8-43e0-bedd-728161a9ac61",
   "metadata": {},
   "outputs": [
    {
     "name": "stdout",
     "output_type": "stream",
     "text": [
      "(124800, 784) (124800,)\n"
     ]
    }
   ],
   "source": [
    "print(X.shape, y.shape)"
   ]
  },
  {
   "cell_type": "code",
   "execution_count": 4,
   "id": "0fcde5c9-9a8a-442f-9761-335b44cb52a2",
   "metadata": {},
   "outputs": [],
   "source": [
    "X = X.reshape(124800, 28, 28)\n",
    "y = y.reshape(124800, 1)"
   ]
  },
  {
   "cell_type": "code",
   "execution_count": 5,
   "id": "e85dab1b-98fe-4705-b279-f69c31497966",
   "metadata": {},
   "outputs": [],
   "source": [
    "y=y-1"
   ]
  },
  {
   "cell_type": "markdown",
   "id": "6954d19e-d3f6-41d8-b6b0-fd7e8d62b0e9",
   "metadata": {},
   "source": [
    "### 2. Train-Test split"
   ]
  },
  {
   "cell_type": "code",
   "execution_count": 6,
   "id": "836b0986-37c7-4b6b-9e93-f08d32996474",
   "metadata": {},
   "outputs": [],
   "source": [
    "# pip install scikit-learn\n",
    "from sklearn.model_selection import train_test_split"
   ]
  },
  {
   "cell_type": "code",
   "execution_count": 7,
   "id": "5a4f6f00-1ec2-4b85-934b-8b33abb75360",
   "metadata": {},
   "outputs": [],
   "source": [
    "X_train, X_test, y_train, y_test = train_test_split(X, y, test_size = 0.2, random_state=50)"
   ]
  },
  {
   "cell_type": "code",
   "execution_count": 8,
   "id": "a3b45544-8713-420c-8f16-aaa25127afd9",
   "metadata": {},
   "outputs": [],
   "source": [
    "X_train = X_train.astype('float32')/255\n",
    "X_test = X_test.astype('float32')/255"
   ]
  },
  {
   "cell_type": "code",
   "execution_count": 9,
   "id": "0398415b-4b9b-4ffb-8e41-1878f09498c5",
   "metadata": {},
   "outputs": [
    {
     "name": "stdout",
     "output_type": "stream",
     "text": [
      "WARNING:tensorflow:From C:\\Users\\vaibh\\AppData\\Local\\Programs\\Python\\Python311\\Lib\\site-packages\\keras\\src\\losses.py:2976: The name tf.losses.sparse_softmax_cross_entropy is deprecated. Please use tf.compat.v1.losses.sparse_softmax_cross_entropy instead.\n",
      "\n"
     ]
    }
   ],
   "source": [
    "# pip install tensorflow\n",
    "from keras.utils import to_categorical\n",
    "y_train = to_categorical(y_train, num_classes = 26)\n",
    "y_test = to_categorical(y_test, num_classes = 26)"
   ]
  },
  {
   "cell_type": "markdown",
   "id": "d907e3c6-f9e2-482b-86c8-4092d639190a",
   "metadata": {},
   "source": [
    "### 3. Define our model"
   ]
  },
  {
   "cell_type": "code",
   "execution_count": 10,
   "id": "caa6e626-9975-4de8-9e2c-e02fde35f9d6",
   "metadata": {},
   "outputs": [
    {
     "name": "stdout",
     "output_type": "stream",
     "text": [
      "WARNING:tensorflow:From C:\\Users\\vaibh\\AppData\\Local\\Programs\\Python\\Python311\\Lib\\site-packages\\keras\\src\\backend.py:873: The name tf.get_default_graph is deprecated. Please use tf.compat.v1.get_default_graph instead.\n",
      "\n"
     ]
    }
   ],
   "source": [
    "from keras.models import Sequential\n",
    "from keras.layers import Dense, Dropout, Flatten\n",
    " \n",
    "model = Sequential()\n",
    "model.add(Flatten(input_shape = (28,28)))\n",
    "model.add(Dense(512, activation='relu'))\n",
    "model.add(Dropout(0.2)) # preventing overfitting\n",
    "model.add(Dense(512, activation = 'relu'))\n",
    "model.add(Dropout(0.2))\n",
    "model.add(Dense(26, activation='softmax'))\n",
    " "
   ]
  },
  {
   "cell_type": "code",
   "execution_count": 11,
   "id": "4ce24f3d-c0aa-4239-a4e4-9814863e2ee5",
   "metadata": {},
   "outputs": [
    {
     "name": "stdout",
     "output_type": "stream",
     "text": [
      "Model: \"sequential\"\n",
      "_________________________________________________________________\n",
      " Layer (type)                Output Shape              Param #   \n",
      "=================================================================\n",
      " flatten (Flatten)           (None, 784)               0         \n",
      "                                                                 \n",
      " dense (Dense)               (None, 512)               401920    \n",
      "                                                                 \n",
      " dropout (Dropout)           (None, 512)               0         \n",
      "                                                                 \n",
      " dense_1 (Dense)             (None, 512)               262656    \n",
      "                                                                 \n",
      " dropout_1 (Dropout)         (None, 512)               0         \n",
      "                                                                 \n",
      " dense_2 (Dense)             (None, 26)                13338     \n",
      "                                                                 \n",
      "=================================================================\n",
      "Total params: 677914 (2.59 MB)\n",
      "Trainable params: 677914 (2.59 MB)\n",
      "Non-trainable params: 0 (0.00 Byte)\n",
      "_________________________________________________________________\n"
     ]
    }
   ],
   "source": [
    "model.summary()"
   ]
  },
  {
   "cell_type": "code",
   "execution_count": 12,
   "id": "993c4136-40ca-42c8-bcf7-92107236b598",
   "metadata": {},
   "outputs": [
    {
     "name": "stdout",
     "output_type": "stream",
     "text": [
      "WARNING:tensorflow:From C:\\Users\\vaibh\\AppData\\Local\\Programs\\Python\\Python311\\Lib\\site-packages\\keras\\src\\optimizers\\__init__.py:309: The name tf.train.Optimizer is deprecated. Please use tf.compat.v1.train.Optimizer instead.\n",
      "\n"
     ]
    }
   ],
   "source": [
    "model.compile(loss= 'categorical_crossentropy', optimizer = 'adam', metrics=['accuracy'])"
   ]
  },
  {
   "cell_type": "markdown",
   "id": "8804c844-484a-4da9-a4ec-c022149826b3",
   "metadata": {},
   "source": [
    "### 4. Calculate Accuracy"
   ]
  },
  {
   "cell_type": "code",
   "execution_count": 13,
   "id": "629e235e-2dba-4023-b6c7-ff09be77a0b4",
   "metadata": {},
   "outputs": [
    {
     "name": "stdout",
     "output_type": "stream",
     "text": [
      "WARNING:tensorflow:From C:\\Users\\vaibh\\AppData\\Local\\Programs\\Python\\Python311\\Lib\\site-packages\\keras\\src\\utils\\tf_utils.py:492: The name tf.ragged.RaggedTensorValue is deprecated. Please use tf.compat.v1.ragged.RaggedTensorValue instead.\n",
      "\n",
      "WARNING:tensorflow:From C:\\Users\\vaibh\\AppData\\Local\\Programs\\Python\\Python311\\Lib\\site-packages\\keras\\src\\engine\\base_layer_utils.py:384: The name tf.executing_eagerly_outside_functions is deprecated. Please use tf.compat.v1.executing_eagerly_outside_functions instead.\n",
      "\n",
      "Before training, test accuracy is 3.537660092115402\n"
     ]
    }
   ],
   "source": [
    "score = model.evaluate(X_test, y_test, verbose=0)\n",
    "accuracy = 100*score[1]\n",
    "print(\"Before training, test accuracy is\", accuracy)"
   ]
  },
  {
   "cell_type": "code",
   "execution_count": 14,
   "id": "3bff1fd4-46e2-45fe-b6ee-945d5042b884",
   "metadata": {},
   "outputs": [
    {
     "name": "stdout",
     "output_type": "stream",
     "text": [
      "Epoch 1/10\n",
      "615/624 [============================>.] - ETA: 0s - loss: 0.8078 - accuracy: 0.7556\n",
      "Epoch 1: val_loss improved from inf to 0.42855, saving model to best_model.h5\n",
      "624/624 [==============================] - 5s 7ms/step - loss: 0.8038 - accuracy: 0.7567 - val_loss: 0.4285 - val_accuracy: 0.8667\n",
      "Epoch 2/10\n",
      " 24/624 [>.............................] - ETA: 4s - loss: 0.4361 - accuracy: 0.8568"
     ]
    },
    {
     "name": "stderr",
     "output_type": "stream",
     "text": [
      "C:\\Users\\vaibh\\AppData\\Local\\Programs\\Python\\Python311\\Lib\\site-packages\\keras\\src\\engine\\training.py:3103: UserWarning: You are saving your model as an HDF5 file via `model.save()`. This file format is considered legacy. We recommend using instead the native Keras format, e.g. `model.save('my_model.keras')`.\n",
      "  saving_api.save_model(\n"
     ]
    },
    {
     "name": "stdout",
     "output_type": "stream",
     "text": [
      "618/624 [============================>.] - ETA: 0s - loss: 0.4227 - accuracy: 0.8651\n",
      "Epoch 2: val_loss improved from 0.42855 to 0.34937, saving model to best_model.h5\n",
      "624/624 [==============================] - 4s 7ms/step - loss: 0.4222 - accuracy: 0.8651 - val_loss: 0.3494 - val_accuracy: 0.8883\n",
      "Epoch 3/10\n",
      "623/624 [============================>.] - ETA: 0s - loss: 0.3417 - accuracy: 0.8886\n",
      "Epoch 3: val_loss improved from 0.34937 to 0.31199, saving model to best_model.h5\n",
      "624/624 [==============================] - 4s 7ms/step - loss: 0.3417 - accuracy: 0.8886 - val_loss: 0.3120 - val_accuracy: 0.9003\n",
      "Epoch 4/10\n",
      "617/624 [============================>.] - ETA: 0s - loss: 0.2959 - accuracy: 0.8998\n",
      "Epoch 4: val_loss improved from 0.31199 to 0.29872, saving model to best_model.h5\n",
      "624/624 [==============================] - 4s 7ms/step - loss: 0.2963 - accuracy: 0.8996 - val_loss: 0.2987 - val_accuracy: 0.9036\n",
      "Epoch 5/10\n",
      "617/624 [============================>.] - ETA: 0s - loss: 0.2639 - accuracy: 0.9100\n",
      "Epoch 5: val_loss improved from 0.29872 to 0.27906, saving model to best_model.h5\n",
      "624/624 [==============================] - 4s 7ms/step - loss: 0.2636 - accuracy: 0.9101 - val_loss: 0.2791 - val_accuracy: 0.9085\n",
      "Epoch 6/10\n",
      "617/624 [============================>.] - ETA: 0s - loss: 0.2383 - accuracy: 0.9171\n",
      "Epoch 6: val_loss did not improve from 0.27906\n",
      "624/624 [==============================] - 4s 7ms/step - loss: 0.2380 - accuracy: 0.9173 - val_loss: 0.2844 - val_accuracy: 0.9102\n",
      "Epoch 7/10\n",
      "621/624 [============================>.] - ETA: 0s - loss: 0.2223 - accuracy: 0.9203\n",
      "Epoch 7: val_loss improved from 0.27906 to 0.27828, saving model to best_model.h5\n",
      "624/624 [==============================] - 4s 7ms/step - loss: 0.2223 - accuracy: 0.9203 - val_loss: 0.2783 - val_accuracy: 0.9118\n",
      "Epoch 8/10\n",
      "623/624 [============================>.] - ETA: 0s - loss: 0.2052 - accuracy: 0.9273\n",
      "Epoch 8: val_loss improved from 0.27828 to 0.27568, saving model to best_model.h5\n",
      "624/624 [==============================] - 4s 7ms/step - loss: 0.2051 - accuracy: 0.9273 - val_loss: 0.2757 - val_accuracy: 0.9151\n",
      "Epoch 9/10\n",
      "622/624 [============================>.] - ETA: 0s - loss: 0.1930 - accuracy: 0.9295\n",
      "Epoch 9: val_loss did not improve from 0.27568\n",
      "624/624 [==============================] - 4s 7ms/step - loss: 0.1931 - accuracy: 0.9295 - val_loss: 0.2851 - val_accuracy: 0.9101\n",
      "Epoch 10/10\n",
      "622/624 [============================>.] - ETA: 0s - loss: 0.1831 - accuracy: 0.9338\n",
      "Epoch 10: val_loss improved from 0.27568 to 0.27551, saving model to best_model.h5\n",
      "624/624 [==============================] - 4s 7ms/step - loss: 0.1831 - accuracy: 0.9338 - val_loss: 0.2755 - val_accuracy: 0.9150\n"
     ]
    },
    {
     "data": {
      "text/plain": [
       "<keras.src.callbacks.History at 0x2dc11955710>"
      ]
     },
     "execution_count": 14,
     "metadata": {},
     "output_type": "execute_result"
    }
   ],
   "source": [
    "\n",
    "from keras.callbacks import ModelCheckpoint\n",
    " \n",
    "checkpointer = ModelCheckpoint(filepath = 'best_model.h5', verbose=1, save_best_only = True)\n",
    "model.fit(X_train, y_train, batch_size = 128, epochs= 10, validation_split = 0.2, \n",
    "          callbacks=[checkpointer], verbose=1, shuffle=True)\n"
   ]
  },
  {
   "cell_type": "code",
   "execution_count": 15,
   "id": "68d6197e-51e7-4104-9a9f-c9c3cbb0e513",
   "metadata": {},
   "outputs": [],
   "source": [
    "model.load_weights('best_model.h5')"
   ]
  },
  {
   "cell_type": "code",
   "execution_count": 16,
   "id": "c126577d-b8e5-4edc-ace0-535662b038c5",
   "metadata": {},
   "outputs": [
    {
     "name": "stdout",
     "output_type": "stream",
     "text": [
      "Test accuracy is  91.3902223110199\n"
     ]
    }
   ],
   "source": [
    "score = model.evaluate(X_test, y_test, verbose=0)\n",
    "accuracy = 100*score[1]\n",
    "\n",
    "print(\"Test accuracy is \", accuracy)"
   ]
  },
  {
   "cell_type": "markdown",
   "id": "c6a55a64-e0bc-4f81-9420-77e7026d6b76",
   "metadata": {},
   "source": [
    "### 5. Alphabet Recognition System"
   ]
  },
  {
   "cell_type": "code",
   "execution_count": 17,
   "id": "bad1b895-4fa1-4942-9265-93cea0e551da",
   "metadata": {},
   "outputs": [],
   "source": [
    "from keras.models import load_model"
   ]
  },
  {
   "cell_type": "code",
   "execution_count": 18,
   "id": "1531385c-208d-4d96-ad92-fe7eaa434ca0",
   "metadata": {},
   "outputs": [],
   "source": [
    "model = load_model('best_model.h5')"
   ]
  },
  {
   "cell_type": "code",
   "execution_count": 19,
   "id": "3f2d13f3-241b-4d5e-ab76-662e8a19c1b5",
   "metadata": {},
   "outputs": [],
   "source": [
    "letters ={ 0:'a', 1:'b', 2:'c', 3:'d', 4:'e', 5:'f', 6:'g', 7:'h', 8:'i', 9:'j', 10:'k', 11:'l', \n",
    "          12:'m', 13:'n', 14:'o', 15:'p', 16:'q', 17:'r', 18:'s', 19:'t', 20:'u', 21:'v', 22:'w', \n",
    "          23:'x', 24:'y', 25:'z', 26:''}"
   ]
  },
  {
   "cell_type": "code",
   "execution_count": 20,
   "id": "6924e6c5-b785-40c5-8f97-0aa0dc0818fb",
   "metadata": {},
   "outputs": [],
   "source": [
    "import numpy as np\n",
    " \n",
    "blueLower = np.array([100,60,60])\n",
    "blueUpper = np.array([140,255,255])"
   ]
  },
  {
   "cell_type": "code",
   "execution_count": 21,
   "id": "b5103cb0-53b6-43ba-9dc8-e96de5d78b94",
   "metadata": {},
   "outputs": [],
   "source": [
    "kernel = np.ones((5,5), np.uint8)"
   ]
  },
  {
   "cell_type": "code",
   "execution_count": 22,
   "id": "e0f33eb6-2968-456e-9811-8295de79ef77",
   "metadata": {},
   "outputs": [],
   "source": [
    "blackboard = np.zeros((480,640, 3), dtype=np.uint8)\n",
    "alphabet = np.zeros((200,200,3), dtype=np.uint8)"
   ]
  },
  {
   "cell_type": "code",
   "execution_count": 23,
   "id": "74dd9ab2-4e2a-4cc2-ba3c-f140899f4b16",
   "metadata": {},
   "outputs": [],
   "source": [
    "from collections import deque\n",
    "points = deque(maxlen = 512)"
   ]
  },
  {
   "cell_type": "markdown",
   "id": "f8eb77dc-b759-4c82-9fb7-28a345a53ee4",
   "metadata": {},
   "source": [
    "### 6. Open Web Camera and recogonise Alphabet"
   ]
  },
  {
   "cell_type": "code",
   "execution_count": null,
   "id": "a566bfb5-f05e-49e8-a923-081fd170e58e",
   "metadata": {},
   "outputs": [],
   "source": [
    "import cv2 \n",
    "cap = cv2.VideoCapture(0)\n",
    "prediction = 26\n",
    "while True:\n",
    "    ret,frame=cap.read()\n",
    "    frame = cv2.flip(frame, 1) \n",
    "    \n",
    "    hsv = cv2.cvtColor(frame, cv2.COLOR_BGR2HSV)\n",
    "    gray = cv2.cvtColor(frame, cv2.COLOR_BGR2GRAY) \n",
    "    blue = cv2.inRange(hsv, blueLower, blueUpper)\n",
    "    blue = cv2.erode(blue, kernel)\n",
    "    blue = cv2.morphologyEx(blue, cv2.MORPH_OPEN, kernel)\n",
    "    blue = cv2.dilate(blue, kernel)\n",
    "    cnts , _ = cv2.findContours(blue, cv2.RETR_EXTERNAL, cv2.CHAIN_APPROX_SIMPLE)\n",
    "      \n",
    "    center = None\n",
    "    if len(cnts) > 0:\n",
    "        cnt = sorted(cnts, key = cv2.contourArea, reverse=True)[0]\n",
    "        ((x,y), radius) = cv2.minEnclosingCircle(cnt)\n",
    "        cv2.circle(frame, (int(x), int(y),), int(radius), (125,344,278), 2)\n",
    "        M = cv2.moments(cnt)\n",
    "        center = (int(M['m10']/M['m00']), int(M['m01']/M['m00']))\n",
    "        points.appendleft(center)\n",
    "    elif len(cnts) == 0:\n",
    "        if len(points) != 0:\n",
    "            blackboard_gray = cv2.cvtColor(blackboard, cv2.COLOR_BGR2GRAY)\n",
    "            blur = cv2.medianBlur(blackboard_gray, 15)\n",
    "            blur = cv2.GaussianBlur(blur, (5,5), 0)\n",
    "            thresh = cv2.threshold(blur, 0, 255, cv2.THRESH_BINARY+cv2.THRESH_OTSU)[1]\n",
    "            #cv2.imshow(\"Thresh\", thresh)\n",
    "            blackboard_cnts = cv2.findContours(thresh, cv2.RETR_TREE, cv2.CHAIN_APPROX_NONE)[0]\n",
    "             \n",
    "            if len(blackboard_cnts)>=1:\n",
    "                cnt = sorted(blackboard_cnts, key=cv2.contourArea, reverse=True)[0]\n",
    "                 \n",
    "                if cv2.contourArea(cnt)>1000:\n",
    "                    x,y,w,h = cv2.boundingRect(cnt)\n",
    "                    alphabet = blackboard_gray[y-10:y+h+10,x-10:x+w+10]\n",
    "                    try:\n",
    "                        img = cv2.resize(alphabet, (28,28))\n",
    "                    except cv2.error as e:\n",
    "                        continue \n",
    "                    img = np.array(img)\n",
    "                    img = img.astype('float32')/255\n",
    "                    prediction = model.predict(img.reshape(1,28,28))[0]\n",
    "                    prediction = np.argmax(prediction)\n",
    "            points = deque(maxlen=512)\n",
    "            blackboard = np.zeros((480,640, 3), dtype=np.uint8)\n",
    "    for i in range(1, len(points)):\n",
    "        if points[i-1] is None or points[i] is None:\n",
    "            continue\n",
    "        cv2.line(frame, points[i-1], points[i], (0,0,0), 2)\n",
    "        cv2.line(blackboard, points[i-1], points[i], (255,255,255), 8)\n",
    "    cv2.putText(frame, \"Prediction is : \" + str(letters[int(prediction)]), (20,400), cv2.FONT_HERSHEY_SIMPLEX, 0.8, (255,255,255), 2)\n",
    "    \n",
    "    cv2.imshow(\"Alphabet Recognition System\",frame)\n",
    "    \n",
    "    if cv2.waitKey(1)==13:\n",
    "        break\n",
    "cap.release()\n",
    "cv2.destroyAllWindows()"
   ]
  },
  {
   "cell_type": "code",
   "execution_count": null,
   "id": "7c7e5112-95a8-4379-8662-3c2fb3824a1b",
   "metadata": {},
   "outputs": [],
   "source": []
  },
  {
   "cell_type": "code",
   "execution_count": null,
   "id": "d44b3519-f67a-49b3-822c-4cf66bec85ca",
   "metadata": {},
   "outputs": [],
   "source": []
  },
  {
   "cell_type": "code",
   "execution_count": null,
   "id": "ad8693a1-5d39-4957-bdf5-d0ed0a5773ef",
   "metadata": {},
   "outputs": [],
   "source": [
    "\n",
    "\n",
    "\n",
    "\n",
    "\n",
    "\n",
    "\n"
   ]
  }
 ],
 "metadata": {
  "kernelspec": {
   "display_name": "Python 3 (ipykernel)",
   "language": "python",
   "name": "python3"
  },
  "language_info": {
   "codemirror_mode": {
    "name": "ipython",
    "version": 3
   },
   "file_extension": ".py",
   "mimetype": "text/x-python",
   "name": "python",
   "nbconvert_exporter": "python",
   "pygments_lexer": "ipython3",
   "version": "3.11.4"
  }
 },
 "nbformat": 4,
 "nbformat_minor": 5
}
